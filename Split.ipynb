{
 "cells": [
  {
   "cell_type": "code",
   "execution_count": 115,
   "id": "2ee23a87",
   "metadata": {},
   "outputs": [],
   "source": [
    "import pandas as pd\n",
    "import numpy as np\n",
    "import warnings\n",
    "warnings.filterwarnings('ignore')"
   ]
  },
  {
   "cell_type": "code",
   "execution_count": 120,
   "id": "3866842d",
   "metadata": {},
   "outputs": [],
   "source": [
    "def remove_useless(data):\n",
    "    for column in data.columns:\n",
    "        if len(data[column].unique()) == 1:\n",
    "            data.drop(columns = [column] , inplace = True)\n",
    "    return data"
   ]
  },
  {
   "cell_type": "code",
   "execution_count": 122,
   "id": "89dc3ff0",
   "metadata": {},
   "outputs": [],
   "source": [
    "names = []\n",
    "save_path = 'Train'\n",
    "for xlsx in ['Estimates','WPP2022']:\n",
    "    df = pd.read_excel(f'{xlsx}.xlsx')\n",
    "    df.drop(columns = ['Index'], inplace = True)\n",
    "    df['Year'] = pd.to_numeric(df['Year'], downcast='integer')\n",
    "    for t in df['Type'].unique():\n",
    "        name = t.replace(\" \", \"_\")\n",
    "        name = name.replace(\"/\", \"_\")\n",
    "        names.append(name)\n",
    "        locals()[f'{name}_df'] = df[df['Type'] == t]\n",
    "        remove_useless(locals()[f'{name}_df']).to_csv(f'./{save_path}/{name}.csv')\n",
    "    save_path = 'Test'"
   ]
  }
 ],
 "metadata": {
  "kernelspec": {
   "display_name": "Python 3 (ipykernel)",
   "language": "python",
   "name": "python3"
  },
  "language_info": {
   "codemirror_mode": {
    "name": "ipython",
    "version": 3
   },
   "file_extension": ".py",
   "mimetype": "text/x-python",
   "name": "python",
   "nbconvert_exporter": "python",
   "pygments_lexer": "ipython3",
   "version": "3.8.0"
  }
 },
 "nbformat": 4,
 "nbformat_minor": 5
}
